{
 "cells": [
  {
   "cell_type": "code",
   "execution_count": 8,
   "metadata": {},
   "outputs": [],
   "source": [
    "from flask import Flask, render_template, request,jsonify\n",
    "from flask_cors import CORS,cross_origin\n",
    "import requests\n",
    "from bs4 import BeautifulSoup as bs\n",
    "from urllib.request import urlopen as uReq\n",
    "\n",
    "\n",
    "app = Flask(__name__)\n",
    "\n",
    "@app.route('/',methods=['GET'])  # route to display the home page\n",
    "@cross_origin()\n",
    "def homePage():\n",
    "    return render_template(\"index.html\")\n",
    "\n",
    "@app.route('/review',methods=['POST','GET']) # route to show the review comments in a web UI\n",
    "@cross_origin()\n",
    "def index():\n",
    "    if request.method == 'POST':\n",
    "        try:\n",
    "            searchString = request.form['content'].replace(\" \",\"\")\n",
    "            flipkart_url = \"https://www.flipkart.com/search?q=\" + searchString\n",
    "            uClient = uReq(flipkart_url)\n",
    "            flipkartPage = uClient.read()\n",
    "            uClient.close()\n",
    "            flipkart_html = bs(flipkartPage, \"html.parser\")\n",
    "            bigboxes = flipkart_html.findAll(\"div\", {\"class\": \"_1AtVbE col-12-12\"})\n",
    "            del bigboxes[0:3]\n",
    "            box = bigboxes[0]\n",
    "            productLink = \"https://www.flipkart.com\" + box.div.div.div.a['href']\n",
    "            prodRes = requests.get(productLink)\n",
    "            prodRes.encoding='utf-8'\n",
    "            prod_html = bs(prodRes.text, \"html.parser\")\n",
    "            print(prod_html)\n",
    "            commentboxes = prod_html.find_all('div', {'class': \"_16PBlm\"})\n",
    "\n",
    "            filename = searchString + \".csv\"\n",
    "            fw = open(filename, \"w\")\n",
    "            headers = \"Product, Customer Name, Rating, Heading, Comment \\n\"\n",
    "            fw.write(headers)\n",
    "            reviews = []\n",
    "            for commentbox in commentboxes:\n",
    "                try:\n",
    "                    #name.encode(encoding='utf-8')\n",
    "                    name = commentbox.div.div.find_all('p', {'class': '_2sc7ZR _2V5EHH'})[0].text\n",
    "\n",
    "                except:\n",
    "                    name = 'No Name'\n",
    "\n",
    "                try:\n",
    "                    #rating.encode(encoding='utf-8')\n",
    "                    rating = commentbox.div.div.div.div.text\n",
    "\n",
    "\n",
    "                except:\n",
    "                    rating = 'No Rating'\n",
    "\n",
    "                try:\n",
    "                    #commentHead.encode(encoding='utf-8')\n",
    "                    commentHead = commentbox.div.div.div.p.text\n",
    "\n",
    "                except:\n",
    "                    commentHead = 'No Comment Heading'\n",
    "                try:\n",
    "                    comtag = commentbox.div.div.find_all('div', {'class': ''})\n",
    "                    #custComment.encode(encoding='utf-8')\n",
    "                    custComment = comtag[0].div.text\n",
    "                except Exception as e:\n",
    "                    print(\"Exception while creating dictionary: \",e)\n",
    "\n",
    "                mydict = {\"Product\": searchString, \"Name\": name, \"Rating\": rating, \"CommentHead\": commentHead,\n",
    "                          \"Comment\": custComment}\n",
    "                reviews.append(mydict)\n",
    "            return render_template('results.html', reviews=reviews[0:(len(reviews)-1)])\n",
    "        except Exception as e:\n",
    "            print('The Exception message is: ',e)\n",
    "            return 'something is wrong'\n",
    "    # return render_template('results.html')\n",
    "\n",
    "    else:\n",
    "        return render_template('index.html')\n",
    "\n",
    "if __name__ == \"__main__\":\n",
    "    from waitress import serve\n",
    "    serve(app, host=\"127.0.0.1\", port=8080)\n",
    "    #app.run(host='127.0.0.1', port=8001, debug=True)\n",
    "    #app.run(debug=True)\n"
   ]
  },
  {
   "cell_type": "code",
   "execution_count": 7,
   "metadata": {},
   "outputs": [
    {
     "name": "stdout",
     "output_type": "stream",
     "text": [
      "Collecting waitress\n",
      "  Downloading waitress-2.0.0-py3-none-any.whl (56 kB)\n",
      "Installing collected packages: waitress\n",
      "Successfully installed waitress-2.0.0\n"
     ]
    }
   ],
   "source": [
    "!pip install waitress"
   ]
  },
  {
   "cell_type": "code",
   "execution_count": null,
   "metadata": {},
   "outputs": [],
   "source": []
  }
 ],
 "metadata": {
  "kernelspec": {
   "display_name": "Python 3",
   "language": "python",
   "name": "python3"
  },
  "language_info": {
   "codemirror_mode": {
    "name": "ipython",
    "version": 3
   },
   "file_extension": ".py",
   "mimetype": "text/x-python",
   "name": "python",
   "nbconvert_exporter": "python",
   "pygments_lexer": "ipython3",
   "version": "3.6.3"
  }
 },
 "nbformat": 4,
 "nbformat_minor": 4
}
